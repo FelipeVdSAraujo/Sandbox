{
 "cells": [
  {
   "cell_type": "code",
   "execution_count": 2,
   "id": "9168969c-34eb-49a2-a936-61a3cb868c55",
   "metadata": {
    "execution": {
     "iopub.execute_input": "2023-06-15T15:28:11.296802Z",
     "iopub.status.busy": "2023-06-15T15:28:11.296302Z",
     "iopub.status.idle": "2023-06-15T15:28:12.484082Z",
     "shell.execute_reply": "2023-06-15T15:28:12.482716Z",
     "shell.execute_reply.started": "2023-06-15T15:28:11.296770Z"
    },
    "tags": []
   },
   "outputs": [],
   "source": [
    "# Running example from the following page\n",
    "# https://realpython.com/linear-programming-python/\n",
    "from scipy.optimize import linprog"
   ]
  },
  {
   "cell_type": "code",
   "execution_count": 3,
   "id": "11208b52-06a7-414a-959f-05a247dee2d3",
   "metadata": {
    "execution": {
     "iopub.execute_input": "2023-06-15T15:29:41.962267Z",
     "iopub.status.busy": "2023-06-15T15:29:41.961733Z",
     "iopub.status.idle": "2023-06-15T15:29:41.970935Z",
     "shell.execute_reply": "2023-06-15T15:29:41.969869Z",
     "shell.execute_reply.started": "2023-06-15T15:29:41.962229Z"
    }
   },
   "outputs": [],
   "source": [
    "obj = [-1, -2]\n",
    "lhs_ineq = [[ 2,  1],[-4,  5],[ 1, -2]]\n",
    "rhs_ineq = [20, 10, 2]\n",
    "lhs_eq = [[-1, 5]]\n",
    "rhs_eq = [15]"
   ]
  },
  {
   "cell_type": "code",
   "execution_count": 4,
   "id": "0d039cf3-dca2-404c-a364-84e2b89fb0c2",
   "metadata": {
    "execution": {
     "iopub.execute_input": "2023-06-15T15:30:10.224044Z",
     "iopub.status.busy": "2023-06-15T15:30:10.223629Z",
     "iopub.status.idle": "2023-06-15T15:30:10.231856Z",
     "shell.execute_reply": "2023-06-15T15:30:10.230678Z",
     "shell.execute_reply.started": "2023-06-15T15:30:10.224015Z"
    },
    "tags": []
   },
   "outputs": [],
   "source": [
    "bnd = [(0, float(\"inf\")),(0, float(\"inf\"))]"
   ]
  },
  {
   "cell_type": "code",
   "execution_count": 5,
   "id": "bfbb4a42-41e5-45c4-bc24-02391c928376",
   "metadata": {
    "execution": {
     "iopub.execute_input": "2023-06-15T15:30:34.004465Z",
     "iopub.status.busy": "2023-06-15T15:30:34.003512Z",
     "iopub.status.idle": "2023-06-15T15:30:34.079412Z",
     "shell.execute_reply": "2023-06-15T15:30:34.078382Z",
     "shell.execute_reply.started": "2023-06-15T15:30:34.004432Z"
    },
    "tags": []
   },
   "outputs": [],
   "source": [
    "opt = linprog(c=obj, A_ub=lhs_ineq, b_ub=rhs_ineq,\n",
    "               A_eq=lhs_eq, b_eq=rhs_eq, bounds=bnd,\n",
    "               method=\"highs\")"
   ]
  },
  {
   "cell_type": "code",
   "execution_count": 6,
   "id": "39e6d8b2-ec77-4d32-93f5-e41db7fbdf67",
   "metadata": {
    "execution": {
     "iopub.execute_input": "2023-06-15T15:30:45.231730Z",
     "iopub.status.busy": "2023-06-15T15:30:45.231017Z",
     "iopub.status.idle": "2023-06-15T15:30:45.254328Z",
     "shell.execute_reply": "2023-06-15T15:30:45.253298Z",
     "shell.execute_reply.started": "2023-06-15T15:30:45.231701Z"
    },
    "tags": []
   },
   "outputs": [
    {
     "data": {
      "text/plain": [
       "     con: array([0.])\n",
       "     fun: -16.818181818181817\n",
       " message: 'Optimization terminated successfully.'\n",
       "     nit: 3\n",
       "   slack: array([ 0.        , 18.18181818,  3.36363636])\n",
       "  status: 0\n",
       " success: True\n",
       "       x: array([7.72727273, 4.54545455])"
      ]
     },
     "execution_count": 6,
     "metadata": {},
     "output_type": "execute_result"
    }
   ],
   "source": [
    "opt"
   ]
  },
  {
   "cell_type": "code",
   "execution_count": 7,
   "id": "b6be1469-4d1d-488f-9799-45555a25a03d",
   "metadata": {
    "execution": {
     "iopub.execute_input": "2023-06-15T15:32:27.571232Z",
     "iopub.status.busy": "2023-06-15T15:32:27.570836Z",
     "iopub.status.idle": "2023-06-15T15:32:27.606783Z",
     "shell.execute_reply": "2023-06-15T15:32:27.605973Z",
     "shell.execute_reply.started": "2023-06-15T15:32:27.571204Z"
    },
    "tags": []
   },
   "outputs": [],
   "source": [
    "from pulp import LpMaximize, LpProblem, LpStatus, lpSum, LpVariable"
   ]
  },
  {
   "cell_type": "code",
   "execution_count": 9,
   "id": "d3f64f32-6c2f-4ea4-864e-0f4e86cbbab6",
   "metadata": {
    "execution": {
     "iopub.execute_input": "2023-06-15T15:32:49.916329Z",
     "iopub.status.busy": "2023-06-15T15:32:49.915934Z",
     "iopub.status.idle": "2023-06-15T15:32:49.920794Z",
     "shell.execute_reply": "2023-06-15T15:32:49.919665Z",
     "shell.execute_reply.started": "2023-06-15T15:32:49.916300Z"
    },
    "tags": []
   },
   "outputs": [],
   "source": [
    "model = LpProblem(name=\"small-problem\", sense=LpMaximize)"
   ]
  },
  {
   "cell_type": "code",
   "execution_count": 10,
   "id": "9c084a1e-5809-46e1-b737-f8887889eeb6",
   "metadata": {
    "execution": {
     "iopub.execute_input": "2023-06-15T15:33:04.245923Z",
     "iopub.status.busy": "2023-06-15T15:33:04.245523Z",
     "iopub.status.idle": "2023-06-15T15:33:04.254952Z",
     "shell.execute_reply": "2023-06-15T15:33:04.253990Z",
     "shell.execute_reply.started": "2023-06-15T15:33:04.245894Z"
    },
    "tags": []
   },
   "outputs": [],
   "source": [
    "# Initialize the decision variables\n",
    "x = LpVariable(name=\"x\", lowBound=0)\n",
    "y = LpVariable(name=\"y\", lowBound=0)"
   ]
  },
  {
   "cell_type": "code",
   "execution_count": 11,
   "id": "4f8ddca1-a605-4db2-9ddb-aa6c09c14bdb",
   "metadata": {
    "execution": {
     "iopub.execute_input": "2023-06-15T15:34:20.666878Z",
     "iopub.status.busy": "2023-06-15T15:34:20.666198Z",
     "iopub.status.idle": "2023-06-15T15:34:20.671305Z",
     "shell.execute_reply": "2023-06-15T15:34:20.670224Z",
     "shell.execute_reply.started": "2023-06-15T15:34:20.666847Z"
    },
    "tags": []
   },
   "outputs": [],
   "source": [
    "# not sure about this \n",
    "expression = 2 * x + 4 * y\n",
    "constraint = 2 * x + 4 * y >= 8"
   ]
  },
  {
   "cell_type": "code",
   "execution_count": 12,
   "id": "08674788-1861-4eaf-a2b2-7711eeb76c6c",
   "metadata": {
    "execution": {
     "iopub.execute_input": "2023-06-15T15:34:42.667540Z",
     "iopub.status.busy": "2023-06-15T15:34:42.667154Z",
     "iopub.status.idle": "2023-06-15T15:34:42.672805Z",
     "shell.execute_reply": "2023-06-15T15:34:42.671845Z",
     "shell.execute_reply.started": "2023-06-15T15:34:42.667512Z"
    },
    "tags": []
   },
   "outputs": [],
   "source": [
    "# Add the constraints to the model\n",
    "model += (2 * x + y <= 20, \"red_constraint\")\n",
    "model += (4 * x - 5 * y >= -10, \"blue_constraint\")\n",
    "model += (-x + 2 * y >= -2, \"yellow_constraint\")\n",
    "model += (-x + 5 * y == 15, \"green_constraint\")"
   ]
  },
  {
   "cell_type": "code",
   "execution_count": 13,
   "id": "c2cc0c9b-97e4-469b-b7a3-d736a8f315fe",
   "metadata": {
    "execution": {
     "iopub.execute_input": "2023-06-15T15:35:24.841726Z",
     "iopub.status.busy": "2023-06-15T15:35:24.841136Z",
     "iopub.status.idle": "2023-06-15T15:35:24.845716Z",
     "shell.execute_reply": "2023-06-15T15:35:24.844897Z",
     "shell.execute_reply.started": "2023-06-15T15:35:24.841697Z"
    },
    "tags": []
   },
   "outputs": [],
   "source": [
    "# Add the objective function to the model\n",
    "obj_func = x + 2 * y\n",
    "model += obj_func"
   ]
  },
  {
   "cell_type": "code",
   "execution_count": 14,
   "id": "13146881-d8e5-43f0-922d-7d002d398ab7",
   "metadata": {
    "execution": {
     "iopub.execute_input": "2023-06-15T15:35:37.059678Z",
     "iopub.status.busy": "2023-06-15T15:35:37.059189Z",
     "iopub.status.idle": "2023-06-15T15:35:37.066336Z",
     "shell.execute_reply": "2023-06-15T15:35:37.065182Z",
     "shell.execute_reply.started": "2023-06-15T15:35:37.059647Z"
    },
    "tags": []
   },
   "outputs": [
    {
     "name": "stderr",
     "output_type": "stream",
     "text": [
      "/opt/saturncloud/envs/saturn/lib/python3.9/site-packages/pulp/pulp.py:1704: UserWarning: Overwriting previously set objective.\n",
      "  warnings.warn(\"Overwriting previously set objective.\")\n"
     ]
    }
   ],
   "source": [
    "# Add the objective function to the model - shorter notation\n",
    "# model += x + 2 * y"
   ]
  },
  {
   "cell_type": "code",
   "execution_count": 15,
   "id": "4b4103bc-f783-4636-9cd8-37df87295bb8",
   "metadata": {
    "execution": {
     "iopub.execute_input": "2023-06-15T15:36:33.468184Z",
     "iopub.status.busy": "2023-06-15T15:36:33.467777Z",
     "iopub.status.idle": "2023-06-15T15:36:33.479166Z",
     "shell.execute_reply": "2023-06-15T15:36:33.478413Z",
     "shell.execute_reply.started": "2023-06-15T15:36:33.468158Z"
    },
    "tags": []
   },
   "outputs": [
    {
     "data": {
      "text/plain": [
       "small-problem:\n",
       "MAXIMIZE\n",
       "1*x + 2*y + 0\n",
       "SUBJECT TO\n",
       "red_constraint: 2 x + y <= 20\n",
       "\n",
       "blue_constraint: 4 x - 5 y >= -10\n",
       "\n",
       "yellow_constraint: - x + 2 y >= -2\n",
       "\n",
       "green_constraint: - x + 5 y = 15\n",
       "\n",
       "VARIABLES\n",
       "x Continuous\n",
       "y Continuous"
      ]
     },
     "execution_count": 15,
     "metadata": {},
     "output_type": "execute_result"
    }
   ],
   "source": [
    "model"
   ]
  },
  {
   "cell_type": "code",
   "execution_count": 16,
   "id": "a22855c2-717e-484b-9a88-c127ec47e700",
   "metadata": {
    "execution": {
     "iopub.execute_input": "2023-06-15T15:36:48.105024Z",
     "iopub.status.busy": "2023-06-15T15:36:48.104524Z",
     "iopub.status.idle": "2023-06-15T15:36:48.156667Z",
     "shell.execute_reply": "2023-06-15T15:36:48.155566Z",
     "shell.execute_reply.started": "2023-06-15T15:36:48.104996Z"
    },
    "tags": []
   },
   "outputs": [
    {
     "name": "stdout",
     "output_type": "stream",
     "text": [
      "Welcome to the CBC MILP Solver \n",
      "Version: 2.10.3 \n",
      "Build Date: Dec 15 2019 \n",
      "\n",
      "command line - /opt/saturncloud/envs/saturn/lib/python3.9/site-packages/pulp/solverdir/cbc/linux/64/cbc /tmp/05c36dd5b0f34008a49f0469a4edd244-pulp.mps max timeMode elapsed branch printingOptions all solution /tmp/05c36dd5b0f34008a49f0469a4edd244-pulp.sol (default strategy 1)\n",
      "At line 2 NAME          MODEL\n",
      "At line 3 ROWS\n",
      "At line 9 COLUMNS\n",
      "At line 20 RHS\n",
      "At line 25 BOUNDS\n",
      "At line 26 ENDATA\n",
      "Problem MODEL has 4 rows, 2 columns and 8 elements\n",
      "Coin0008I MODEL read with 0 errors\n",
      "Option for timeMode changed from cpu to elapsed\n",
      "Presolve 0 (-4) rows, 0 (-2) columns and 0 (-8) elements\n",
      "Empty problem - 0 rows, 0 columns and 0 elements\n",
      "Optimal - objective value 16.818182\n",
      "After Postsolve, objective 16.818182, infeasibilities - dual 0 (0), primal 0 (0)\n",
      "Optimal objective 16.81818182 - 0 iterations time 0.002, Presolve 0.00\n",
      "Option for printingOptions changed from normal to all\n",
      "Total time (CPU seconds):       0.00   (Wallclock seconds):       0.00\n",
      "\n"
     ]
    }
   ],
   "source": [
    "# Solve the problem\n",
    "status = model.solve()"
   ]
  },
  {
   "cell_type": "code",
   "execution_count": 17,
   "id": "8ba9ac86-3e10-44a0-94f6-5da6b053f187",
   "metadata": {
    "execution": {
     "iopub.execute_input": "2023-06-15T15:37:30.464489Z",
     "iopub.status.busy": "2023-06-15T15:37:30.463434Z",
     "iopub.status.idle": "2023-06-15T15:37:30.470044Z",
     "shell.execute_reply": "2023-06-15T15:37:30.469170Z",
     "shell.execute_reply.started": "2023-06-15T15:37:30.464433Z"
    },
    "tags": []
   },
   "outputs": [
    {
     "name": "stdout",
     "output_type": "stream",
     "text": [
      "status: 1, Optimal\n"
     ]
    }
   ],
   "source": [
    "print(f\"status: {model.status}, {LpStatus[model.status]}\")"
   ]
  },
  {
   "cell_type": "code",
   "execution_count": 18,
   "id": "a2b475f6-dc8b-4415-9889-ce431419b716",
   "metadata": {
    "execution": {
     "iopub.execute_input": "2023-06-15T15:37:40.980584Z",
     "iopub.status.busy": "2023-06-15T15:37:40.980178Z",
     "iopub.status.idle": "2023-06-15T15:37:40.987053Z",
     "shell.execute_reply": "2023-06-15T15:37:40.985808Z",
     "shell.execute_reply.started": "2023-06-15T15:37:40.980556Z"
    },
    "tags": []
   },
   "outputs": [
    {
     "name": "stdout",
     "output_type": "stream",
     "text": [
      "objective: 16.8181817\n"
     ]
    }
   ],
   "source": [
    "print(f\"objective: {model.objective.value()}\")"
   ]
  },
  {
   "cell_type": "code",
   "execution_count": 19,
   "id": "92e8d244-98a2-4225-b000-42ff45d4a731",
   "metadata": {
    "execution": {
     "iopub.execute_input": "2023-06-15T15:37:52.113307Z",
     "iopub.status.busy": "2023-06-15T15:37:52.112823Z",
     "iopub.status.idle": "2023-06-15T15:37:52.120868Z",
     "shell.execute_reply": "2023-06-15T15:37:52.119650Z",
     "shell.execute_reply.started": "2023-06-15T15:37:52.113269Z"
    },
    "tags": []
   },
   "outputs": [
    {
     "name": "stdout",
     "output_type": "stream",
     "text": [
      "x: 7.7272727\n",
      "y: 4.5454545\n"
     ]
    }
   ],
   "source": [
    "for var in model.variables():\n",
    "     print(f\"{var.name}: {var.value()}\")"
   ]
  },
  {
   "cell_type": "code",
   "execution_count": 20,
   "id": "6cb71fc7-c1d7-4a1b-8f37-1625d5400d3f",
   "metadata": {
    "execution": {
     "iopub.execute_input": "2023-06-15T15:38:07.723270Z",
     "iopub.status.busy": "2023-06-15T15:38:07.722814Z",
     "iopub.status.idle": "2023-06-15T15:38:07.729662Z",
     "shell.execute_reply": "2023-06-15T15:38:07.728205Z",
     "shell.execute_reply.started": "2023-06-15T15:38:07.723241Z"
    },
    "tags": []
   },
   "outputs": [
    {
     "name": "stdout",
     "output_type": "stream",
     "text": [
      "red_constraint: -9.99999993922529e-08\n",
      "blue_constraint: 18.181818300000003\n",
      "yellow_constraint: 3.3636362999999996\n",
      "green_constraint: -2.0000000233721948e-07\n"
     ]
    }
   ],
   "source": [
    "for name, constraint in model.constraints.items():\n",
    "     print(f\"{name}: {constraint.value()}\")"
   ]
  },
  {
   "cell_type": "code",
   "execution_count": 1,
   "id": "fa0af5df-af97-4a42-a363-a7fbc6983315",
   "metadata": {},
   "outputs": [],
   "source": [
    "# Now using examples from:\n",
    "# https://mlabonne.github.io/blog/posts/2022-03-05-linear_programming.html\n",
    "from ortools.linear_solver import pywraplp"
   ]
  },
  {
   "cell_type": "code",
   "execution_count": 2,
   "id": "3b462006",
   "metadata": {},
   "outputs": [
    {
     "name": "stdout",
     "output_type": "stream",
     "text": [
      "================= Solution =================\n",
      "Solved in 51.00 milliseconds in 0 iterations\n",
      "\n",
      "Optimal value = 1800.0 💪power\n",
      "Army:\n",
      " - 🗡️Swordsmen = 6.0\n",
      " - 🏹Bowmen = 0.0\n",
      " - 🐎Horsemen = 6.0\n"
     ]
    }
   ],
   "source": [
    "# Create the linear solver using the CBC backend\n",
    "solver = pywraplp.Solver('Maximize army power', pywraplp.Solver.CBC_MIXED_INTEGER_PROGRAMMING)\n",
    "\n",
    "# 1. Create the variables we want to optimize\n",
    "swordsmen = solver.IntVar(0, solver.infinity(), 'swordsmen')\n",
    "bowmen = solver.IntVar(0, solver.infinity(), 'bowmen')\n",
    "horsemen = solver.IntVar(0, solver.infinity(), 'horsemen')\n",
    "\n",
    "# 2. Add constraints for each resource\n",
    "solver.Add(swordsmen*60 + bowmen*80 + horsemen*140 <= 1200)\n",
    "solver.Add(swordsmen*20 + bowmen*10 <= 800)\n",
    "solver.Add(bowmen*40 + horsemen*100 <= 600)\n",
    "\n",
    "# 3. Maximize the objective function\n",
    "solver.Maximize(swordsmen*70 + bowmen*95 + horsemen*230)\n",
    "\n",
    "# Solve problem\n",
    "status = solver.Solve()\n",
    "\n",
    "# If an optimal solution has been found, print results\n",
    "if status == pywraplp.Solver.OPTIMAL:\n",
    "  print('================= Solution =================')\n",
    "  print(f'Solved in {solver.wall_time():.2f} milliseconds in {solver.iterations()} iterations')\n",
    "  print()\n",
    "  print(f'Optimal value = {solver.Objective().Value()} 💪power')\n",
    "  print('Army:')\n",
    "  print(f' - 🗡️Swordsmen = {swordsmen.solution_value()}')\n",
    "  print(f' - 🏹Bowmen = {bowmen.solution_value()}')\n",
    "  print(f' - 🐎Horsemen = {horsemen.solution_value()}')\n",
    "else:\n",
    "  print('The solver could not find an optimal solution.')"
   ]
  },
  {
   "cell_type": "code",
   "execution_count": null,
   "id": "3c812193",
   "metadata": {},
   "outputs": [],
   "source": []
  }
 ],
 "metadata": {
  "kernelspec": {
   "display_name": "saturn (Python 3)",
   "language": "python",
   "name": "python3"
  },
  "language_info": {
   "codemirror_mode": {
    "name": "ipython",
    "version": 3
   },
   "file_extension": ".py",
   "mimetype": "text/x-python",
   "name": "python",
   "nbconvert_exporter": "python",
   "pygments_lexer": "ipython3",
   "version": "3.9.15"
  }
 },
 "nbformat": 4,
 "nbformat_minor": 5
}
